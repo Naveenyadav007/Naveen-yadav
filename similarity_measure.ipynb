{
 "cells": [
  {
   "cell_type": "code",
   "execution_count": 1,
   "id": "d6f6f421-b04b-4700-9f83-be853aed540d",
   "metadata": {},
   "outputs": [],
   "source": [
    "import numpy as np\n",
    "from scipy.spatial.distance import cosine, euclidean\n",
    "from scipy.stats import pearsonr"
   ]
  },
  {
   "cell_type": "code",
   "execution_count": 2,
   "id": "0e6965ed-3760-4ba3-870b-1501ef5371fe",
   "metadata": {},
   "outputs": [],
   "source": [
    "user1 = np.array([4, 5, 2, 3, 4])\n",
    "user2 = np.array([5, 3, 2, 4, 5])"
   ]
  },
  {
   "cell_type": "code",
   "execution_count": 3,
   "id": "70ac4909-11fd-4efd-bf75-684c8c153c9e",
   "metadata": {},
   "outputs": [
    {
     "name": "stdout",
     "output_type": "stream",
     "text": [
      "Cosine Similarity: 0.9548\n"
     ]
    }
   ],
   "source": [
    "cosine_similarity = 1 - cosine(user1, user2)\n",
    "print(f\"Cosine Similarity: {cosine_similarity:.4f}\")"
   ]
  },
  {
   "cell_type": "code",
   "execution_count": 4,
   "id": "4fdeebc3-0652-4ad5-b74e-8203ced9ff8f",
   "metadata": {},
   "outputs": [
    {
     "name": "stdout",
     "output_type": "stream",
     "text": [
      "Euclidean Distance Similarity: 0.2743\n"
     ]
    }
   ],
   "source": [
    "euclidean_distance = euclidean(user1, user2)\n",
    "euclidean_similarity = 1 / (1 + euclidean_distance)\n",
    "print(f\"Euclidean Distance Similarity: {euclidean_similarity:.4f}\")"
   ]
  },
  {
   "cell_type": "code",
   "execution_count": 7,
   "id": "aacf19c9-2dcd-4c8d-b400-fc4b40a5f58a",
   "metadata": {},
   "outputs": [],
   "source": [
    "user1 = np.array([5, 3, 4, 4, 2])\n",
    "user2 = np.array([3, 1, 2, 3, 3])\n",
    "user3 = np.array([4, 3, 4, 5, 1])\n",
    "user4 = np.array([2, 2, 1, 2, 4])"
   ]
  },
  {
   "cell_type": "code",
   "execution_count": 20,
   "id": "44c19129-bd82-43f8-8424-5b66b58d8d79",
   "metadata": {},
   "outputs": [
    {
     "name": "stdout",
     "output_type": "stream",
     "text": [
      "Cosine Similarity: 0.9297\n"
     ]
    }
   ],
   "source": [
    "cosine_similarity = 1 - cosine(user1, user2,)\n",
    "print(f\"Cosine Similarity: {cosine_similarity:.4f}\")"
   ]
  },
  {
   "cell_type": "code",
   "execution_count": 21,
   "id": "ba4a8fc5-f6fd-4fc3-80ed-957be83b61e4",
   "metadata": {},
   "outputs": [
    {
     "name": "stdout",
     "output_type": "stream",
     "text": [
      "Cosine Similarity: 0.7260\n"
     ]
    }
   ],
   "source": [
    "cosine_similarity = 1 - cosine(user4, user3,)\n",
    "print(f\"Cosine Similarity: {cosine_similarity:.4f}\")"
   ]
  },
  {
   "cell_type": "code",
   "execution_count": 24,
   "id": "bb3180f3-2478-4b59-a560-679e3496a645",
   "metadata": {},
   "outputs": [
    {
     "name": "stdout",
     "output_type": "stream",
     "text": [
      "         Bahubali  Mufasa  Interstellar  RRR  Mrs\n",
      "Raju            5       3             4    4    2\n",
      "John            3       1             2    3    3\n",
      "Ramya           4       3             4    5    1\n",
      "Kishore         2       2             1    2    4\n",
      "  User 1   User 2  Cosine Similarity  Pearson Correlation  \\\n",
      "0   Raju     John           0.929670             0.196116   \n",
      "1   Raju    Ramya           0.978337             0.838557   \n",
      "2   Raju  Kishore           0.799014            -0.720577   \n",
      "3   John    Ramya           0.885465             0.036860   \n",
      "4   John  Kishore           0.919145             0.408248   \n",
      "5  Ramya  Kishore           0.725961            -0.812605   \n",
      "\n",
      "   Euclidean Similarity  \n",
      "0              0.210897  \n",
      "1              0.366025  \n",
      "2              0.161390  \n",
      "3              0.195194  \n",
      "4              0.309017  \n",
      "5              0.150221  \n"
     ]
    }
   ],
   "source": [
    "import numpy as np\n",
    "import pandas as pd\n",
    "from scipy.spatial.distance import cosine, euclidean\n",
    "from scipy.stats import pearsonr\n",
    "\n",
    "#User-item rating matrix for 4 users\n",
    "ratings = np.array([\n",
    "    [5, 3, 4, 4, 2],  # User A\n",
    "    [3, 1, 2, 3, 3],  # User B\n",
    "    [4, 3, 4, 5, 1],  # User C\n",
    "    [2, 2, 1, 2, 4]   # User D\n",
    "])\n",
    "\n",
    "users = [\"Raju\", \"John\", \"Ramya\", \"Kishore\"]\n",
    "df = pd.DataFrame(ratings, index=users, columns=[\"Bahubali\",\"Mufasa\",\"Interstellar\",\"RRR\",\"Mrs\"])\n",
    "print(df)\n",
    "\n",
    "# Function to compute similarity\n",
    "def compute_similarity(df):\n",
    "    num_users = df.shape[0]\n",
    "    similarity_results = []\n",
    "\n",
    "    for i in range(num_users):\n",
    "        for j in range(i + 1, num_users):  # Avoid redundant pairs\n",
    "            user1, user2 = df.iloc[i], df.iloc[j]\n",
    "\n",
    "            # Cosine Similarity\n",
    "            cos_sim = 1 - cosine(user1, user2)\n",
    "\n",
    "            # Pearson Correlation Similarity\n",
    "            pearson_sim, _ = pearsonr(user1, user2)\n",
    "\n",
    "            # Euclidean Distance Similarity\n",
    "            euc_dist = euclidean(user1, user2)\n",
    "            euc_sim = 1 / (1 + euc_dist)  # Normalize to [0,1]\n",
    "\n",
    "            similarity_results.append([users[i], users[j], cos_sim, pearson_sim, euc_sim])\n",
    "\n",
    "    return pd.DataFrame(similarity_results, columns=[\"User 1\", \"User 2\", \"Cosine Similarity\", \"Pearson Correlation\", \"Euclidean Similarity\"])\n",
    "\n",
    "# Compute similarity matrix\n",
    "similarity_df = compute_similarity(df)\n",
    "\n",
    "# Display results\n",
    "print(similarity_df)"
   ]
  },
  {
   "cell_type": "code",
   "execution_count": null,
   "id": "ba29dec3-6e30-4b24-b428-969f1cd650b7",
   "metadata": {},
   "outputs": [],
   "source": []
  }
 ],
 "metadata": {
  "kernelspec": {
   "display_name": "Python 3 (ipykernel)",
   "language": "python",
   "name": "python3"
  },
  "language_info": {
   "codemirror_mode": {
    "name": "ipython",
    "version": 3
   },
   "file_extension": ".py",
   "mimetype": "text/x-python",
   "name": "python",
   "nbconvert_exporter": "python",
   "pygments_lexer": "ipython3",
   "version": "3.12.7"
  }
 },
 "nbformat": 4,
 "nbformat_minor": 5
}
